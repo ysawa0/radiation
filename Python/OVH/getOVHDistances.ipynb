{
 "cells": [
  {
   "cell_type": "code",
   "execution_count": 1,
   "metadata": {},
   "outputs": [],
   "source": [
    "import numpy as np\n",
    "import dicom\n",
    "import sys\n",
    "sys.path.append('..')\n",
    "import os\n",
    "from AlgoEngine.utils import getContours, getImageBlock, convertROIToCTSpace\n",
    "from AlgoEngine.ovh import getOVHDistances\n",
    "from General.testing_utils import getContourInputs\n",
    "from math import sqrt"
   ]
  },
  {
   "cell_type": "markdown",
   "metadata": {},
   "source": [
    "## Inputs to Function\n",
    "\n",
    "We compute OVH distances for PTV and bladder in this test"
   ]
  },
  {
   "cell_type": "code",
   "execution_count": 2,
   "metadata": {},
   "outputs": [],
   "source": [
    "BASE_DIR = '/home/radiation/RadiationTherapyDecisionSupport/data/'\n",
    "StudyID = 'UCLA_PR_6'\n",
    "_, sop_ids = getImageBlock(StudyID, BASE_DIR)\n",
    "\n",
    "ctFilenames = [fl for fl in os.listdir(BASE_DIR + StudyID) if 'CT.' in fl]\n",
    "numImages = len(ctFilenames)\n",
    "\n",
    "sampleCTImage = dicom.read_file(BASE_DIR + StudyID + '/' + ctFilenames[0])\n",
    "width = sampleCTImage.Columns\n",
    "height = sampleCTImage.Rows\n",
    "row_spacing = float(sampleCTImage.PixelSpacing[0])\n",
    "column_spacing = float(sampleCTImage.PixelSpacing[1])\n",
    "slice_spacing = float(sampleCTImage.SliceThickness)"
   ]
  },
  {
   "cell_type": "code",
   "execution_count": 3,
   "metadata": {},
   "outputs": [],
   "source": [
    "ROI_NAME = 'PTV'\n",
    "block_shape, contour_data, image_orientation, image_position, pixel_spacing = getContourInputs(BASE_DIR, StudyID, ROI_NAME, excluding=[])\n",
    "ptv_contour_block, ptv_roi_block = getContours(block_shape, contour_data, image_orientation, image_position, pixel_spacing)\n",
    "ptv_contour_block = convertROIToCTSpace(ptv_contour_block, image_position, sop_ids)\n",
    "ptv_roi_block = convertROIToCTSpace(ptv_roi_block, image_position, sop_ids)"
   ]
  },
  {
   "cell_type": "code",
   "execution_count": 4,
   "metadata": {},
   "outputs": [],
   "source": [
    "ROI_NAME = 'Bladder'\n",
    "block_shape, contour_data, image_orientation, image_position, pixel_spacing = getContourInputs(BASE_DIR, StudyID, ROI_NAME, excluding=[])\n",
    "_, oar_roi_block = getContours(block_shape, contour_data, image_orientation, image_position, pixel_spacing)\n",
    "oar_roi_block = convertROIToCTSpace(oar_roi_block, image_position, sop_ids)"
   ]
  },
  {
   "cell_type": "markdown",
   "metadata": {},
   "source": [
    "## Function Starts Here"
   ]
  },
  {
   "cell_type": "code",
   "execution_count": 5,
   "metadata": {},
   "outputs": [],
   "source": [
    "oar_dists = getOVHDistances(oar_roi_block, ptv_contour_block, ptv_roi_block, row_spacing, column_spacing, slice_spacing)"
   ]
  },
  {
   "cell_type": "markdown",
   "metadata": {},
   "source": [
    "## Testing Output\n",
    "\n",
    "Note that because we lack access to an actual validation example, we test using the assertion that for 5 random places in the OAR, there is not a place in the PTV that is closer than the marked distance. "
   ]
  },
  {
   "cell_type": "code",
   "execution_count": 6,
   "metadata": {},
   "outputs": [
    {
     "name": "stdout",
     "output_type": "stream",
     "text": [
      "True\n"
     ]
    }
   ],
   "source": [
    "oar_row, oar_col, oar_slice = np.nonzero(oar_dists)\n",
    "ptv_row, ptv_col, ptv_slice = np.nonzero(ptv_contour_block)\n",
    "\n",
    "alpha = column_spacing / row_spacing\n",
    "beta =  slice_spacing / row_spacing\n",
    "\n",
    "test_passed = True\n",
    "\n",
    "indices = np.arange(oar_row.shape[0])\n",
    "np.random.shuffle(indices)\n",
    "\n",
    "for n in range(0, 30):\n",
    "    oar_point = (oar_row[indices[n]], oar_col[indices[n]], oar_slice[indices[n]])\n",
    "    for i in range(0, ptv_row.shape[0]):\n",
    "        dist = sqrt( (oar_point[0] - ptv_row[i])**2  + \n",
    "                      alpha*(oar_point[1] - ptv_col[i])**2 + \n",
    "                      beta*(oar_point[2] - ptv_slice[i])**2)\n",
    "        \n",
    "        # allclose handles errors from comparing single precision to double precision number\n",
    "        if dist < oar_dists[oar_point] and not np.allclose(np.array(dist), np.array(oar_dists[oar_point])):\n",
    "            test_passed = False\n",
    "\n",
    "print(test_passed)"
   ]
  }
 ],
 "metadata": {
  "kernelspec": {
   "display_name": "Python 3",
   "language": "python",
   "name": "python3"
  },
  "language_info": {
   "codemirror_mode": {
    "name": "ipython",
    "version": 3
   },
   "file_extension": ".py",
   "mimetype": "text/x-python",
   "name": "python",
   "nbconvert_exporter": "python",
   "pygments_lexer": "ipython3",
   "version": "3.5.2"
  }
 },
 "nbformat": 4,
 "nbformat_minor": 2
}
