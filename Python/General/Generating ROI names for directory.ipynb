{
 "cells": [
  {
   "cell_type": "markdown",
   "metadata": {},
   "source": [
    "# Generating ROI Names for Database\n",
    "\n",
    "We want to parse each of the historical data files, and determine which OARs are present based off the corresponding structureset file. "
   ]
  },
  {
   "cell_type": "code",
   "execution_count": 1,
   "metadata": {},
   "outputs": [],
   "source": [
    "import dicom\n",
    "import os\n",
    "import sys\n",
    "from extractROINames import preprocess_roi_name_ucla"
   ]
  },
  {
   "cell_type": "code",
   "execution_count": 2,
   "metadata": {},
   "outputs": [
    {
     "name": "stdout",
     "output_type": "stream",
     "text": [
      "ALL Unique names:['5610[cgy]', '6270[cgy]', '6930[cgy]', 'ant avoid', 'anus', 'aoptcapp', 'aring', 'aring2', 'artifact', 'atv3wl', 'avoid', 'avoid l', 'avoid lt', 'avoid lt pst', 'avoid rt pst', 'avoid1', 'bb', 'bbs', 'bladder', 'bladder opti', 'body', 'body avoid', 'bones', 'c0 rln', 'c0gtv', 'c0mandibler', 'c0mrenhancem', 'c0mri', 'c0pet', 'c0petln', 'c1ctv', 'c1dzext', 'c1gtv', 'c1gtvln', 'c1hypophx', 'c1larynx', 'c1ln', 'c1lnjk', 'c1lnlt', 'c1lnrt', 'c1lowerlip', 'c1ltongue', 'c1npx', 'c1opbed', 'c1oraltong', 'c1orophx', 'c1pet', 'c1postoptumorb', 'c1prim', 'c1primtumr', 'c1r oro', 'c1rnasoethmoid', 'c1seroma', 'c1site', 'c1temptumor', 'c1tongbot', 'c1tongdzextrt', 'c1total', 'c1tumor', 'c1tumrbdbucmuc', 'c1tvc', 'c1upnklt', 'c2 dzext', 'c2ctv', 'c2disext', 'c2dxext', 'c2dzext', 'c2dzext1', 'c2ln', 'c2localext', 'c2lwnklt', 'c2neckltup', 'c2necklwlt', 'c2necklwrt', 'c2neckrt', 'c2neckuplt', 'c2neckupltjk', 'c2neckuprt', 'c2neckuprtjk', 'c2nkupl', 'c2nkuplt', 'c2nkupr', 'c2nkuprt', 'c2orohypophx', 'c2orophx', 'c2postopbed', 'c2prtdlt', 'c2sbclnext', 'c2submln', 'c2tongbot', 'c2tongnecklt', 'c2tongue', 'c2total', 'c2tumrext', 'c2upnkl', 'c2upnklt', 'c2upnkltdonot', 'c2upnkr', 'c2upnkrt', 'c2uppnkln', 'c2wl', 'c3ctv', 'c3cvsinus', 'c3dzext', 'c3ln', 'c3lonkl', 'c3lonklt dono', 'c3lonkr', 'c3lwnklt', 'c3lwnkrt', 'c3necklt', 'c3necklwlt', 'c3necklwltjk', 'c3necklwrt', 'c3necklwrtjk', 'c3neckrt', 'c3neckuplt', 'c3neckuprt', 'c3nk upnk', 'c3nklwl', 'c3nklwlt', 'c3nklwr', 'c3nklwrt', 'c3sbclnext', 'c3subclndz', 'c3tongbot', 'c3total', 'c3upnklt', 'c3wl', 'c54gyjk', 'c60gyjk', 'ccnv', 'cctv1ltongnk', 'cctv2 total', 'cctv2contrank', 'cctv2ipsineck', 'cctv3 total', 'cctv3nklwnk', 'cgtv', 'chamchodctv 54', 'chamchodctv 60', 'chamchodgtv', 'chamchodgtv tot', 'chamchodpet', 'chamchodptv 54', 'chamchodptv 60', 'cltonsilnodes', 'combined', 'cord + 5mm', 'crnasoethmoid', 'ctv(pb)', 'ctv1', 'ctv1cheekr', 'ctv1jk', 'ctv1nkgtv exp', 'ctv1nm', 'ctv1oro/hypopjk', 'ctv1total', 'ctv1totaljk', 'ctv1totalspl', 'ctv1v2r', 'ctv2', 'ctv2 all', 'ctv2 total', 'ctv26270jk', 'ctv2all', 'ctv2chkorbr', 'ctv2jk', 'ctv2ln-lnm', 'ctv2ln-rnm', 'ctv2lupnk', 'ctv2nkl', 'ctv2nklev6', 'ctv2nkr', 'ctv2nm', 'ctv2rupnk', 'ctv2total', 'ctv2totaljk', 'ctv2totalspl', 'ctv2upperneckj', 'ctv3 total', 'ctv35610jk', 'ctv3all', 'ctv3jk', 'ctv3llonk', 'ctv3ln-lnm', 'ctv3ln-rnm', 'ctv3lowneckjk', 'ctv3rlonk', 'ctv3total', 'ctv3totaljk', 'ctv6000total', 'ctv6930jk', 'ctvhighriskwl', 'ctvinfraorb jk', 'ctvlnlvl123', 'ctvlowriskwl', 'cxthynodulel', 'ext', 'femur left', 'femur right', 'fiducials', 'g-gtv', 'ggrsrtnslsftplt', 'ggtv', 'ggtv1lchk', 'gln', 'gmr', 'gorophx', 'gpet', 'gpet pos tng an', 'gpet positive', 'gpetpreop', 'gross ln', 'gross ln ctv', 'gsinus', 'gsite', 'gtvnm', 'gtvnodalandprim', 'gtvwl', 'hot shell', 'iso', 'isocenter', 'l lac gland', 'l mandibular ram', 'laserorigin', 'lat avoid', 'left femoral head', 'level 1b ln rt', 'level 4 ln rt', 'level 4 rt', 'level 5 ln rt', 'level 5 lt', 'level 5 rt', 'level 6 ln', 'level4 ln lt', 'ln', 'long scan', 'longscan', 'lt avoid', 'lt node', 'ltparotidopti', 'mandible, body', 'match points', 'medial avoid', 'ms gtv', 'nafct', 'new ctv scalp', 'new ptv scalp', 'obrchplx', 'obrn', 'obstm', 'ocarotidrt', 'occlelt', 'occlert', 'ochsm', 'ocochleal', 'ococlhear', 'ocord', 'ocrna', 'oesgs', 'oeyelt', 'oeyert', 'ohdpt', 'ohrt', 'olacgldl', 'olacgldr', 'olacglndrt', 'olacrimalglndl', 'olacrimalr', 'olens rt', 'olenslt', 'olensrt', 'olensrt1', 'olips', 'olivr', 'olrnx', 'olrnxorophx', 'olunglt', 'olungrt', 'olungtt', 'olyxesptrcthy', 'olyxthy', 'olyxthyesptrc', 'olyxtrcespthy', 'omndb', 'oopnvlt', 'oopnvrt', 'ooral cavity', 'oparotidl', 'oparotidr', 'ophnx', 'ophrynx', 'oprtdl', 'oprtdlt', 'oprtdltopt', 'oprtdrt', 'oprtdtt', 'opti parotid left', 'opti+cord +5mm', 'optibstem+5mm', 'opticord + 5mm', 'opticord +5mm', 'optilrnx', 'optiprtd rt', 'optiprtdrt', 'optirt prtd', 'optirtparotid', 'oright lacrimal', 'otchlrnxesph', 'otong', 'otrca', 'otrcaesphlyrxth', 'otrcesplyrthy', 'otrcesplyxthy', 'otrcespthylyx', 'otvc', 'p 5400opti', 'p1opt', 'p1orphxtmr', 'p2opti', 'p2orphxtmrbd', 'p3ltuprln', 'p3opti', 'p54opti', 'p5610opti', 'p60opti', 'p6270opti', 'palvrg6000', 'pbilatlownek54', 'pbot63', 'pbotupnk60', 'pchknrv6000', 'pdisext6270', 'pdzex6270', 'pdzexnods4860', 'pdzext5610', 'pdzext6270', 'pdzextupnk6270', 'pdzexuprnk6270', 'penile bulb', 'phypop6930', 'phypphnx6930', 'plbot6930', 'plear6930', 'plns5400', 'plorbt lns6000', 'plrlwnk5610', 'pltlwnk5610', 'pltnsl6930', 'pltupnknds5400', 'plupnkdzex6270', 'plv1nodes6270', 'plv2nds5610', 'plwnk5610', 'pmand6000', 'pnaso6930', 'pnasoadjac6270', 'pnasoupnk5400', 'pneck5610', 'pnode5400', 'pnodes5400', 'pnodes5400opt', 'pnodes6930', 'pnose6930', 'pnphr6930', 'pnphx6930', 'pnpx6930', 'point-1', 'popbed6000', 'poroph6930', 'porophx6930', 'poroupnk6270', 'post avoidance', 'prbot6930', 'precurnaso', 'prlwnk5610', 'prmax6930', 'prostate', 'prostate bed', 'prostate ck', 'prostate nn', 'prparotd6930', 'prprtdupnk6270', 'prtnsl6930', 'prtonsl6930', 'prupnk5400', 'prupnk5610', 'psalglnd6930', 'pscalpdose', 'psinus5000', 'psinus5040', 'psite5000', 'psite5400', 'psite5610', 'psite5610llwnk', 'psite5940', 'psite6000', 'psite6270', 'psite6270lupnk', 'psite69.3', 'psite6930', 'psite6930bcmuc', 'pt430gy', 'ptemp6930', 'pthrdtumr6600', 'ptmrbed6000', 'ptnslupnk6270', 'ptong6000', 'ptv', 'ptv 169.30', 'ptv 262.70', 'ptv 356.10', 'ptv 4400', 'ptv 56.1', 'ptv 62.7', 'ptv 69.3', 'ptv 72gy', 'ptv all', \"ptv&ln's 50.4gy\", 'ptv+sv', 'ptv1 60gy', 'ptv140gy', 'ptv169.3', 'ptv169.30', 'ptv16930', 'ptv2 54gy', 'ptv235gy', 'ptv24860opti', 'ptv25400opti', 'ptv262.7', 'ptv262.70', 'ptv262.7gy', 'ptv262.7opti', 'ptv26270', 'ptv26270opti', 'ptv330gy', 'ptv356.1', 'ptv356.10', 'ptv356.10opti', 'ptv356.1gy', 'ptv35610', 'ptv35610opti', 'ptv5400opti', 'ptv54opti', 'ptv5610opti', 'ptv6270opti', 'ptv63opti', 'ptv66', 'ptv66270opti', 'ptvall', 'ptvdxexupn6000', 'ptvlnkmass', 'ptvlnlvl118op', 'ptvlnlvl123', 'ptvltnk5400', 'ptvrln66gy', 'ptvrtonsl', 'ptvsum', 'punknp6930', 'puplnk6270', 'pupnk6270', 'r avoid', 'r mandibular ram', 'rectum', 'rectum opti', 'rectum0.5cmptv', 'rectum1.0cmptv', 'retropctv2nm', 'right femoral head', 'ring', 'ring1.5cm4.5cm', 'rparotidopti', 'rt avoid', 'rt tonsil', 'rtparotidopti', 'scanned bolus', 'scar wire', 'scctv', 'scctv 50.4', 'scctv 56.1', 'scctv 59.4', 'scctv 62.7', 'scctv 63', 'scctv 69.3', 'scctv 70', 'scctv59.4', 'scctv69.3', 'scgtv', 'scgtv 50.4', 'scgtv pet', 'scgtv66', 'scgtvmripet', 'scocclelt', 'scocclert', 'scpet', 'scptv', 'scptv 50.4', 'scptv 56.1', 'scptv 59.4', 'scptv 62.7', 'scptv 63', 'scptv 66', 'scptv 69.3', 'scptv 70', 'scptv59.4', 'scptv69.3', 'seed1', 'seed2', 'seed3', 'seminal vesicle', 'shldblk', \"sim'd bolus\", 'small bowel', 'superior med ln', 'sv remnant', 'tableorigin', 'thyroidbed lt', 'thyroidbed rt', 'trachopti', 'ts', 'ts bladder', 'ts urethra', 'tvc', 'urethra', 'wire', 'x1bot', 'x2 ln', 'zptv2opti', 'zptv3opti']\n",
      "total names: 530\n",
      "do cases with ptv match total cases?False\n"
     ]
    }
   ],
   "source": [
    "BASE_DIR = os.path.dirname(os.path.dirname(os.getcwd())) + \"/data/\"\n",
    "\n",
    "cases = {\"5\", \"6\", \"7\", \"8\", \"9\", \"28\", \"29\", \"30\", \"31\", \"32\"}\n",
    "names = set()\n",
    "cases_with_ptv = 0\n",
    "for case in sorted(os.listdir(BASE_DIR)):\n",
    "    \n",
    "    if \"zip\" in case:\n",
    "        continue\n",
    "    \n",
    "    #study = \"UCLA_PR_\" + case\n",
    "    if \"ANON\" in case:\n",
    "        try:\n",
    "            x = dicom.read_file(BASE_DIR + case + \"/RTSTRUCT0.dcm\")\n",
    "        except FileNotFoundError:\n",
    "            continue\n",
    "    else:\n",
    "        x = dicom.read_file(BASE_DIR + case + \"/structureset.dcm\")\n",
    "    \n",
    "    # Structure set ROI sequence\n",
    "    # Preprocessing\n",
    "\n",
    "    case_ptv = False\n",
    "    for seq in x.StructureSetROISequence:\n",
    "        roi_name = preprocess_roi_name_ucla(seq.ROIName)\n",
    "        \n",
    "        names.add(roi_name)\n",
    "        \n",
    "        if \"ptv\" in roi_name:\n",
    "            case_ptv = True\n",
    "    \n",
    "    if case_ptv:\n",
    "        cases_with_ptv += 1\n",
    "\n",
    "names = sorted(names)\n",
    "print(\"ALL Unique names:\" + str(names))\n",
    "print(\"total names: \" + str(len(names)))\n",
    "print(\"do cases with ptv match total cases?\" + str(len(cases) == cases_with_ptv))"
   ]
  },
  {
   "cell_type": "code",
   "execution_count": 3,
   "metadata": {},
   "outputs": [
    {
     "data": {
      "text/plain": [
       "['AccessionNumber',\n",
       " 'DeidentificationMethod',\n",
       " 'EthnicGroup',\n",
       " 'InstanceCreationDate',\n",
       " 'InstanceCreationTime',\n",
       " 'InstanceNumber',\n",
       " 'InstitutionName',\n",
       " 'Manufacturer',\n",
       " 'ManufacturerModelName',\n",
       " 'Modality',\n",
       " 'PatientBirthDate',\n",
       " 'PatientID',\n",
       " 'PatientIdentityRemoved',\n",
       " 'PatientName',\n",
       " 'PatientSex',\n",
       " 'ROIContourSequence',\n",
       " 'RTROIObservationsSequence',\n",
       " 'RefdFrameOfReferenceSequence',\n",
       " 'ReferencedFrameOfReferenceSequence',\n",
       " 'ReferringPhysicianName',\n",
       " 'SOPClassUID',\n",
       " 'SOPInstanceUID',\n",
       " 'SeriesDescription',\n",
       " 'SeriesInstanceUID',\n",
       " 'SeriesNumber',\n",
       " 'SoftwareVersions',\n",
       " 'SpecificCharacterSet',\n",
       " 'StructureSetDate',\n",
       " 'StructureSetLabel',\n",
       " 'StructureSetROISequence',\n",
       " 'StructureSetTime',\n",
       " 'StudyDate',\n",
       " 'StudyDescription',\n",
       " 'StudyID',\n",
       " 'StudyInstanceUID',\n",
       " 'StudyTime']"
      ]
     },
     "execution_count": 3,
     "metadata": {},
     "output_type": "execute_result"
    }
   ],
   "source": [
    "x = dicom.read_file(BASE_DIR + \"ANON0/RTSTRUCT0.dcm\")\n",
    "x.dir(\"\")"
   ]
  },
  {
   "cell_type": "code",
   "execution_count": null,
   "metadata": {},
   "outputs": [],
   "source": []
  }
 ],
 "metadata": {
  "kernelspec": {
   "display_name": "Python 3",
   "language": "python",
   "name": "python3"
  },
  "language_info": {
   "codemirror_mode": {
    "name": "ipython",
    "version": 3
   },
   "file_extension": ".py",
   "mimetype": "text/x-python",
   "name": "python",
   "nbconvert_exporter": "python",
   "pygments_lexer": "ipython3",
   "version": "3.5.2"
  }
 },
 "nbformat": 4,
 "nbformat_minor": 2
}
