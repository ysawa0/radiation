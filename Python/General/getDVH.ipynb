{
 "cells": [
  {
   "cell_type": "code",
   "execution_count": 1,
   "metadata": {},
   "outputs": [],
   "source": [
    "# import statements\n",
    "import numpy as np\n",
    "import dicom\n",
    "import cv2 \n",
    "import matplotlib.pyplot as plt\n",
    "from collections import defaultdict\n",
    "import scipy.misc as misc\n",
    "import sys\n",
    "import os\n",
    "sys.path.append(\"..\")\n",
    "from AlgoEngine.utils import getMeanTargetDose, getImageBlock, getContours, convertROIToCTSpace\n",
    "from General.testing_utils import getContourInputs"
   ]
  },
  {
   "cell_type": "markdown",
   "metadata": {},
   "source": [
    "## Inputs to Function + Function\n",
    "\n",
    "We combine both input and function for testing reasons- we test  this function by determining what the DVH is\n",
    "Note that the DICOM dose object has a DVH for everything marked as an \"Organ\" or an \"PTV\", but not avoidance."
   ]
  },
  {
   "cell_type": "code",
   "execution_count": 17,
   "metadata": {},
   "outputs": [],
   "source": [
    "base = os.path.dirname(os.path.dirname(os.path.join(os.getcwd()))) + '/data/'\n",
    "StudyID = 'UCLA_PR_32'\n",
    "structureset = dicom.read_file(base + StudyID + '/structureset.dcm')"
   ]
  },
  {
   "cell_type": "code",
   "execution_count": 18,
   "metadata": {},
   "outputs": [],
   "source": [
    "dose_data = dicom.read_file(base + StudyID + \"/dose.dcm\")\n",
    "dose_grid = np.array(dose_data.pixel_array)\n",
    "\n",
    "x_spacing = np.array(dose_data.PixelSpacing[0]).astype(np.uint8)\n",
    "y_spacing = np.array(dose_data.PixelSpacing[1]).astype(np.uint8)"
   ]
  },
  {
   "cell_type": "code",
   "execution_count": 19,
   "metadata": {},
   "outputs": [],
   "source": [
    "dose_z = float(dose_data.ImagePositionPatient[2])\n",
    "ctFilenames = [fl for fl in os.listdir(base + StudyID) if 'CT.' in fl]\n",
    "ct_sample = dicom.read_file(base + StudyID + '/' + ctFilenames[0])\n",
    "block_shape = (ct_sample.Rows, ct_sample.Columns, len(ctFilenames))\n",
    "\n",
    "ct_coords = None\n",
    "\n",
    "for i, fl in enumerate(ctFilenames):\n",
    "    ct_struct = dicom.read_file(base + StudyID + '/' + fl)\n",
    "    if(float(ct_struct.ImagePositionPatient[2]) == dose_z):\n",
    "        ct_coords = ct_struct.ImagePositionPatient\n",
    "        ct_spacing = ct_struct.PixelSpacing\n",
    "                            "
   ]
  },
  {
   "cell_type": "code",
   "execution_count": 97,
   "metadata": {},
   "outputs": [
    {
     "data": {
      "text/plain": [
       "DVH(cumulative, 1946 bins: [0.0:19.460000000000242] Gy, volume: 25621.808215590598 cm3, name: None, rx_dose: 0 Gy)"
      ]
     },
     "execution_count": 97,
     "metadata": {},
     "output_type": "execute_result"
    }
   ],
   "source": [
    "from dicompylercore import dicomparser, dvh, dvhcalc\n",
    "heartdvh = dvh.DVH.from_dicom_dvh(dose_data, 11)\n",
    "x = heartdvh.cumulative\n",
    "x.counts.tostring()"
   ]
  },
  {
   "cell_type": "code",
   "execution_count": 75,
   "metadata": {},
   "outputs": [
    {
     "data": {
      "text/plain": [
       "[<matplotlib.lines.Line2D at 0x7f2b250c2358>]"
      ]
     },
     "execution_count": 75,
     "metadata": {},
     "output_type": "execute_result"
    },
    {
     "data": {
      "image/png": "[encoded data removed]",
      "text/plain": [
       "<matplotlib.figure.Figure at 0x7f2b252730f0>"
      ]
     },
     "metadata": {},
     "output_type": "display_data"
    }
   ],
   "source": [
    "%matplotlib inline\n",
    "import matplotlib.pyplot as plt\n",
    "plt.plot(bincenters, dose_array[:-1, 1], label=\"ROI\")"
   ]
  }
 ],
 "metadata": {
  "kernelspec": {
   "display_name": "Python 3",
   "language": "python",
   "name": "python3"
  },
  "language_info": {
   "codemirror_mode": {
    "name": "ipython",
    "version": 3
   },
   "file_extension": ".py",
   "mimetype": "text/x-python",
   "name": "python",
   "nbconvert_exporter": "python",
   "pygments_lexer": "ipython3",
   "version": "3.5.2"
  }
 },
 "nbformat": 4,
 "nbformat_minor": 2
}
