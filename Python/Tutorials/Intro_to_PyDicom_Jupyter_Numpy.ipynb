{
 "cells": [
  {
   "cell_type": "markdown",
   "metadata": {},
   "source": [
    "# An Introduction to Jupyter Notebook, PyDICOM and Numpy\n",
    "\n",
    "#### By Veda Murthy\n",
    "\n",
    "This notebook should server as an introduction to Jupyter Notebook and the python toolboxes PyDICOM and Numpy. \n",
    "\n",
    "Jupyter notebook (the software used to develop this) is effectively python commands organized into blocks. Each of these blocks can be run, and, in the event we plot a graph or print some results, we can see the results directly in the notebook, and render the results on github. This allows us to see the results even without running the code.\n",
    "\n",
    "PyDICOM is a python module (set of functions) used to read DICOM data into python. It is very similar to MATLAB's `dicomread` and `dicominfo`.\n",
    "\n",
    "Numpy allows us to create MATLAB-like arrays in Python. It is useful for almost every single function we will develop.\n",
    "\n",
    "## Importing Modules and Running Blocks\n",
    "\n",
    "Unlike MATLAB, functions that you do not develop are not loaded by default. We must import them before we use them. We run these commands:\n",
    "\n",
    "```\n",
    "import numpy as np #Numpy\n",
    "import cv2 #OpenCV\n",
    "import dicom # PyDICOM\n",
    "import matplotlib.pyplot as plt #MatPlotLib - used to show graphs and figures\n",
    "\n",
    "```\n",
    "\n",
    "In order to load our modules into our python environment. Then we can call functions, for example\n",
    "```\n",
    "x = np.array([1, 2, 3])\n",
    "dose_data = dicom.read_file('dose.dcm')\n",
    "```\n",
    "\n",
    "from the modules we loaded.\n",
    "\n",
    "In order to run a block of code in Jupyter Notebook, we can press `SHIFT + ENTER`, or we can go to `Cell -> Run Cell` in the menu of Jupyter Notebook.\n",
    "\n",
    "Jupyter Notebook cells that are running will have a star next to them. For example, it may look like\n",
    "```\n",
    "In [*] (Code in block here)\n",
    "```\n",
    "\n",
    "To add another block of code, press the + sign under `file` in the Jupyter Notebook menu bar. To delete a block of code, press the scissors icon next to the plus sign in the Jupyter Notebook menu bar.\n",
    "\n",
    "To save your Jupyter Notebook, press `CTRL + S` or the hard disk icon next to the plus in the menu bar.\n",
    "\n",
    "To exit out of Jupyter Notebook, close all tabs in Firefox and press `CTRL + C` in the terminal. Press `y` quickly when prompted to.\n"
   ]
  },
  {
   "cell_type": "code",
   "execution_count": 31,
   "metadata": {},
   "outputs": [],
   "source": [
    "import numpy as np\n",
    "import cv2\n",
    "import dicom\n",
    "import matplotlib.pyplot as plt"
   ]
  },
  {
   "cell_type": "markdown",
   "metadata": {},
   "source": [
    "# Using PyDICOM to read Dicom data from UCLA_PR folders\n",
    "\n",
    "Now, we use PyDICOM to load in data from our DICOM files. PyDICOM effectively has two main uses\n",
    "\n",
    "1) `structureset = dicom.read_file('DICOM_FILE.dcm')` - this allows us to read header data from each dicom file. For example, this may be where to get PatientID, or Image orientation data stored with the DICOM file.\n",
    "2) `np.array(structureset.pixel_array)` - this turns our image data into a numpy array, allowing us to manipulate it easily\n",
    "\n",
    "First, we load in `structureset` for our sample patient, UCLA_PR_5"
   ]
  },
  {
   "cell_type": "code",
   "execution_count": 32,
   "metadata": {},
   "outputs": [],
   "source": [
    "base = '/home/radiation/RadiationTherapyDecisionSupport/data/'\n",
    "file_folder = 'UCLA_PR_5/'\n",
    "\n",
    "structureset = dicom.read_file(base + file_folder + 'structureset.dcm')\n"
   ]
  },
  {
   "cell_type": "markdown",
   "metadata": {},
   "source": [
    "``structureset`` is a dictionary type object with different fields for each item. It's almost equivalent to ``dicominfo`` in MATLAB. \n",
    "\n",
    "To access field data, we can write `structureset.FIELD_NAME`, for example, ``structureset.PatientID`` will get us the PatientID field from the dicom field.\n",
    "\n",
    "Below we print a field of ``structureset`` along with its value:"
   ]
  },
  {
   "cell_type": "code",
   "execution_count": 33,
   "metadata": {},
   "outputs": [
    {
     "name": "stdout",
     "output_type": "stream",
     "text": [
      "UCLA_PR_5\n"
     ]
    }
   ],
   "source": [
    "print(structureset.PatientID)"
   ]
  },
  {
   "cell_type": "markdown",
   "metadata": {},
   "source": [
    "The next question might be- what if we do not know what is the field name we want to access? Then we can use the command `structureset.dir()` . When printed, it will list all fields of a DICOM file."
   ]
  },
  {
   "cell_type": "code",
   "execution_count": 34,
   "metadata": {},
   "outputs": [
    {
     "name": "stdout",
     "output_type": "stream",
     "text": [
      "['AccessionNumber', 'ApprovalStatus', 'DeviceSerialNumber', 'EthnicGroup', 'InstanceCreationDate', 'InstanceCreationTime', 'InstanceNumber', 'Manufacturer', 'ManufacturerModelName', 'Modality', 'OtherPatientIDs', 'PatientBirthDate', 'PatientBirthTime', 'PatientID', 'PatientName', 'PatientSex', 'PhysiciansOfRecord', 'ROIContourSequence', 'RTROIObservationsSequence', 'RefdFrameOfReferenceSequence', 'ReferencedFrameOfReferenceSequence', 'ReferringPhysicianName', 'ReviewDate', 'ReviewTime', 'ReviewerName', 'SOPClassUID', 'SOPInstanceUID', 'SeriesDescription', 'SeriesInstanceUID', 'SeriesNumber', 'SoftwareVersions', 'SpecificCharacterSet', 'StationName', 'StructureSetDate', 'StructureSetLabel', 'StructureSetROISequence', 'StructureSetTime', 'StudyDate', 'StudyDescription', 'StudyID', 'StudyInstanceUID', 'StudyTime']\n"
     ]
    }
   ],
   "source": [
    "print(structureset.dir())"
   ]
  },
  {
   "cell_type": "markdown",
   "metadata": {},
   "source": [
    "If we *kind of* know the name of the field we want to access, we can use that as an input to `structureset.dir()`. For example, we may want something from a field that starts with `'SOP'`, but we may not know which specific field we want. We can write `structureset.dir('SOP')` and see all the fields that start with `'SOP'`."
   ]
  },
  {
   "cell_type": "code",
   "execution_count": 35,
   "metadata": {},
   "outputs": [
    {
     "name": "stdout",
     "output_type": "stream",
     "text": [
      "['SOPClassUID', 'SOPInstanceUID']\n"
     ]
    }
   ],
   "source": [
    "print(structureset.dir('SOP'))"
   ]
  },
  {
   "cell_type": "markdown",
   "metadata": {},
   "source": [
    "We can also access the value stored with a given field name using `structureset.data_element(FIELD_NAME).value` For example\n",
    "\n",
    "```\n",
    "structureset.data_element('AccessionNumber').value\n",
    "```\n",
    "will get the accession number from the `AccessionNumber` field of the DICOM file."
   ]
  },
  {
   "cell_type": "code",
   "execution_count": 36,
   "metadata": {},
   "outputs": [
    {
     "data": {
      "text/plain": [
       "'6835933'"
      ]
     },
     "execution_count": 36,
     "metadata": {},
     "output_type": "execute_result"
    }
   ],
   "source": [
    "structureset.data_element('AccessionNumber').value"
   ]
  },
  {
   "cell_type": "markdown",
   "metadata": {},
   "source": [
    "## Using PyDICOM and Numpy to read and process CT Image data\n",
    "\n",
    "Among our two types of DICOM files are the `structureset.dcm` files, and the CT scan files. There are several CT scans for any patient. for UCLA_PR, each CT scan is stored as a separate file in the Patient's folder.\n",
    "\n",
    "First, we get the header data for our CT scan using `dicom.read_file()`. Note that we import the OS module so that we can get a list of the filenames of all CT scans in the directory, then use the index `[0]` to get the first CT scan filename from our list."
   ]
  },
  {
   "cell_type": "code",
   "execution_count": 37,
   "metadata": {},
   "outputs": [],
   "source": [
    "import os\n",
    "ct_scan = dicom.read_file(base + file_folder + os.listdir(base + file_folder)[0])"
   ]
  },
  {
   "cell_type": "markdown",
   "metadata": {},
   "source": [
    "Here, again we print the field names for the CT scan files. Note how these are different from the field names of the `structureset` file."
   ]
  },
  {
   "cell_type": "code",
   "execution_count": 38,
   "metadata": {},
   "outputs": [
    {
     "name": "stdout",
     "output_type": "stream",
     "text": [
      "['AccessionNumber', 'AcquisitionNumber', 'BitsAllocated', 'BitsStored', 'BodyPartExamined', 'Columns', 'ContentDate', 'ContentTime', 'ConvolutionKernel', 'DataCollectionDiameter', 'DeviceSerialNumber', 'DistanceSourceToDetector', 'DistanceSourceToPatient', 'EthnicGroup', 'Exposure', 'ExposureTime', 'FilterType', 'FocalSpots', 'FrameOfReferenceUID', 'GantryDetectorTilt', 'GeneratorPower', 'HighBit', 'ImageOrientationPatient', 'ImagePositionPatient', 'ImageType', 'InstanceCreationDate', 'InstanceCreationTime', 'InstanceNumber', 'InstitutionName', 'KVP', 'Manufacturer', 'ManufacturerModelName', 'Modality', 'OtherPatientIDs', 'PatientBirthDate', 'PatientBirthTime', 'PatientID', 'PatientName', 'PatientPosition', 'PatientSex', 'PhotometricInterpretation', 'PhysiciansOfRecord', 'PixelData', 'PixelRepresentation', 'PixelSpacing', 'PositionReferenceIndicator', 'ReconstructionDiameter', 'ReferringPhysicianName', 'RescaleIntercept', 'RescaleSlope', 'RotationDirection', 'Rows', 'SOPClassUID', 'SOPInstanceUID', 'SamplesPerPixel', 'SeriesDate', 'SeriesDescription', 'SeriesInstanceUID', 'SeriesNumber', 'SeriesTime', 'SliceLocation', 'SliceThickness', 'SoftwareVersions', 'SpecificCharacterSet', 'StationName', 'StudyDate', 'StudyDescription', 'StudyID', 'StudyInstanceUID', 'StudyTime', 'TableHeight', 'WindowCenter', 'WindowWidth', 'XRayTubeCurrent']\n"
     ]
    }
   ],
   "source": [
    "print(ct_scan.dir())"
   ]
  },
  {
   "cell_type": "markdown",
   "metadata": {},
   "source": [
    "You can see how one of the field names is marked as `PixelData`. This is because the CT scan also contains an image, unlike the `structureset.dcm` file. We can access that image data using `ct_scan.pixel_array`\n",
    "\n",
    "However, just running `ct_scan.pixel_array` won't get us what we want, which is numerical data in an array for our image. To accomplish this, we wrap the pixel data in a numpy array, by running\n",
    "```\n",
    "np.array(ct_scan.pixel_array)\n",
    "```\n",
    "\n",
    "\n",
    "In the code block below, we also print the shape of the array containing the image data and the data type of the array. This is our first introduction to numpy- each array's shape and datatype are very important.\n",
    "\n",
    "Shape (2D, 3D, exact dimensions) forms a really great mechanism for debugging our code. If we print the dimensions of the image, and they do not match what they should be, we know something is wrong with our code (or possibly the dicom file)\n",
    "\n",
    "Datatype (float64, int, uint8) is also very important because it's a component numpy inherits from its C-language source code. As a simple introduction:\n",
    "* float64 is a double-precision number, capable of storing very accurate decimals. It's equivalent to `double` in MATLAB. \n",
    "* uint8 is typically used for storing and showing image data. It can store integers from 0 to 255. While we may display a lot of arrays that are in uint8, our functions do not typically use uint8 arrays unless we can guarantee we won't have decimals in our output.\n",
    "* uint16 is used mostly by PyDICOM for loading image data. By default, your images will be loaded in uint16.\n",
    "* int is signed integers.\n",
    "\n",
    "The most basic things to know about datatypes in numpy is that while we can set integer data as float64, we cannot set float64 data as int without losing precision. Decimals will be rounded down with such a conversion.\n",
    "\n",
    "Some functions, particularly those of OpenCV, may also require a certain type of image data (typically `uint8`). Thus, if you can cast your data to uint8, it may be good to do so.\n"
   ]
  },
  {
   "cell_type": "code",
   "execution_count": 39,
   "metadata": {},
   "outputs": [
    {
     "name": "stdout",
     "output_type": "stream",
     "text": [
      "(512, 512)\n",
      "uint16\n"
     ]
    }
   ],
   "source": [
    "ct_image = np.array(ct_scan.pixel_array)\n",
    "print(ct_image.shape)\n",
    "print(ct_image.dtype)"
   ]
  },
  {
   "cell_type": "markdown",
   "metadata": {},
   "source": [
    "There are some helpful functions to know in Numpy:\n",
    "* `np.unique(ct_image)` : gets all the unique values in an array. Can be useful for seeing if casting our array to a different datatype changed the values drastically.\n",
    "* `np.max(image)` : gets the maximum value in an array. Also note its similar function, `np.min(array)`.\n",
    "* `array.astype(np.float64)` : casts our array to a different datatype. Assuming ``array``, was, for example, an array of integers, this would cast it to an array of floating point values.\n",
    "* `np.zeros((512, 512))` : Makes an array of all-zero values. Note the set of two parenthesis; the inner parenthesis `(512, 512)` tells the shape of the all-zero array to make- in this case, 512 x 512\n",
    "* `array[array == 0] = 1` : this is the simplest way of getting a subset of values in an array that meet a condition in numpy. Let's say we wanted to get all values of `array` that were equal to zero, and set all those zero values equal to one. We could run this command, thereby changing only the subset of values we want to rather than them all.\n",
    "\n",
    "We can try out many of these functions on our ct image data:"
   ]
  },
  {
   "cell_type": "code",
   "execution_count": 40,
   "metadata": {},
   "outputs": [
    {
     "name": "stdout",
     "output_type": "stream",
     "text": [
      "[  24   25   26 ..., 3111 3123 3133]\n",
      "[   24.    25.    26. ...,  3111.  3123.  3133.]\n",
      "Maximum value is: 3133\n"
     ]
    }
   ],
   "source": [
    "print(np.unique(ct_image)) # see what values are in our array beforehand\n",
    "\n",
    "ct_image_float = ct_image.astype(np.float64) # casting\n",
    "\n",
    "print(np.unique(ct_image_float)) # see what values are in our array after casting\n",
    "\n",
    "print(\"Maximum value is: \" + str(np.max(ct_image))) # max value\n"
   ]
  },
  {
   "cell_type": "markdown",
   "metadata": {},
   "source": [
    "## Using Matplotlib to Display Images\n",
    "\n",
    "Sometimes, we may want to confirm our functions work by printing graphs. We can do this using Matplotlib, a python module that lets us make graphs. For most of our work, we only need to know two commands:\n",
    "* `plt.imshow(ct_image)` will set up our `ct_image` to be plotted\n",
    "* `plt.show()` will print the graph to the screen\n",
    "\n",
    "You must remember to use `plt.show()` after `plt.imshow` because otherwise you'll just see a memory address of the image, such as ` <matplotlib.image.AxesImage at 0x7f11ca2676d8> ` being printed to the screen.\n",
    "\n",
    "Below, we print the `ct_image` to our screen. If you are seeing this on GitHub, you'll notice the figure renders on GitHub as well. "
   ]
  },
  {
   "cell_type": "code",
   "execution_count": 41,
   "metadata": {},
   "outputs": [
    {
     "data": {
      "image/png": "[encoded data removed]",
      "text/plain": [
       "<matplotlib.figure.Figure at 0x7f11ccab2c50>"
      ]
     },
     "metadata": {},
     "output_type": "display_data"
    }
   ],
   "source": [
    "plt.imshow(ct_image)\n",
    "plt.show()"
   ]
  },
  {
   "cell_type": "markdown",
   "metadata": {},
   "source": [
    "## Dose Data with PyDICOM\n",
    "\n",
    "Dose data is treated very similarly to `structureset` and CT image data. We can read it using `dicom.read_file()` and print directories as well. "
   ]
  },
  {
   "cell_type": "code",
   "execution_count": 42,
   "metadata": {},
   "outputs": [
    {
     "data": {
      "text/plain": [
       "['AccessionNumber',\n",
       " 'BitsAllocated',\n",
       " 'BitsStored',\n",
       " 'Columns',\n",
       " 'DVHSequence',\n",
       " 'DeviceSerialNumber',\n",
       " 'DoseGridScaling',\n",
       " 'DoseSummationType',\n",
       " 'DoseType',\n",
       " 'DoseUnits',\n",
       " 'EthnicGroup',\n",
       " 'FrameIncrementPointer',\n",
       " 'FrameOfReferenceUID',\n",
       " 'GridFrameOffsetVector',\n",
       " 'HighBit',\n",
       " 'ImageOrientationPatient',\n",
       " 'ImagePositionPatient',\n",
       " 'InstanceCreationDate',\n",
       " 'InstanceCreationTime',\n",
       " 'InstanceNumber',\n",
       " 'Manufacturer',\n",
       " 'ManufacturerModelName',\n",
       " 'Modality',\n",
       " 'NumberOfFrames',\n",
       " 'OtherPatientIDs',\n",
       " 'PatientBirthDate',\n",
       " 'PatientBirthTime',\n",
       " 'PatientID',\n",
       " 'PatientName',\n",
       " 'PatientSex',\n",
       " 'PhotometricInterpretation',\n",
       " 'PhysiciansOfRecord',\n",
       " 'PixelData',\n",
       " 'PixelRepresentation',\n",
       " 'PixelSpacing',\n",
       " 'PositionReferenceIndicator',\n",
       " 'RefdRTPlanSequence',\n",
       " 'RefdStructureSetSequence',\n",
       " 'ReferencedRTPlanSequence',\n",
       " 'ReferencedStructureSetSequence',\n",
       " 'ReferringPhysicianName',\n",
       " 'Rows',\n",
       " 'SOPClassUID',\n",
       " 'SOPInstanceUID',\n",
       " 'SamplesPerPixel',\n",
       " 'SeriesDescription',\n",
       " 'SeriesInstanceUID',\n",
       " 'SeriesNumber',\n",
       " 'SliceThickness',\n",
       " 'SoftwareVersions',\n",
       " 'SpecificCharacterSet',\n",
       " 'StationName',\n",
       " 'StudyDate',\n",
       " 'StudyDescription',\n",
       " 'StudyID',\n",
       " 'StudyInstanceUID',\n",
       " 'StudyTime',\n",
       " 'TissueHeterogeneityCorrection']"
      ]
     },
     "execution_count": 42,
     "metadata": {},
     "output_type": "execute_result"
    }
   ],
   "source": [
    "dose_data = dicom.read_file(base + file_folder + \"dose.dcm\")\n",
    "dose_data.dir()"
   ]
  },
  {
   "cell_type": "markdown",
   "metadata": {},
   "source": [
    "There's a few things to notice about Dose Data\n",
    "\n",
    "1) It's in the format [number_of_cts, height, width] in terms of shape"
   ]
  },
  {
   "cell_type": "code",
   "execution_count": 43,
   "metadata": {},
   "outputs": [
    {
     "data": {
      "text/plain": [
       "(317, 136, 206)"
      ]
     },
     "execution_count": 43,
     "metadata": {},
     "output_type": "execute_result"
    }
   ],
   "source": [
    "dose_images = np.array(dose_data.pixel_array)\n",
    "dose_images.shape"
   ]
  },
  {
   "cell_type": "markdown",
   "metadata": {},
   "source": [
    "2) It has very large values compared to CT scans (hence the use of uint32)"
   ]
  },
  {
   "cell_type": "code",
   "execution_count": 44,
   "metadata": {},
   "outputs": [
    {
     "name": "stdout",
     "output_type": "stream",
     "text": [
      "uint32\n",
      "1051318\n"
     ]
    }
   ],
   "source": [
    "print(dose_images.dtype)\n",
    "print(np.max(dose_images))\n"
   ]
  },
  {
   "cell_type": "markdown",
   "metadata": {},
   "source": [
    "## Why are there no Examples with OpenCV?\n",
    "\n",
    "OpenCV functions will not make up the majority of your code. In fact, there will be a lot of developed functions that do not even use OpenCV at all. \n",
    "\n",
    "This is because OpenCV contains very specialized image processing functions. It also may not contain image processing functions that you need. If you do need a function that is not included with OpenCV:\n",
    "1) Try using `skimage` - you can load it through `import skimage`\n",
    "2) Try using `scipy` - you can load it through `import scipy`\n",
    "\n",
    "In addition, OpenCV can be very difficult to handle in Python. This is because most of the source code for OpenCV is in C++, which is a lot more strict about arrays and datatypes that Python is. This means that many OpenCV errors can be very incomprehensible to debug.\n",
    "\n",
    "To see an example code which does call an OpenCV function, you can see `getIsodose` in the `General` folder.\n",
    "\n",
    "\n",
    "## Frequently Seen Errors\n",
    "\n",
    "1) \n",
    "```\n",
    "TypeError: 'numpy.ndarray' object is not callable\n",
    "```\n",
    "\n",
    "This error results from using parenthesis (MATLAB syntax) instead of square brackets to index an array. For example, we write `dose_images[0]` , not `dose_images(0)` to get the 0th element of an array.\n",
    "\n",
    "2) All the values are slightly off compared to MATLAB\n",
    "\n",
    "This is probably because Python starts array indexing with 0, not 1 as in MATLAB. to get the first element of an array in python, we write `array[0]`, not `array[1]`.\n",
    "\n",
    "At a more complicated level, this may be because of implementation differences between Numpy and MATLAB. There's not really much we can do on that front, though.\n",
    "\n",
    "3) Running the same code block multiple times gives different results.\n",
    "\n",
    "This is because Jupyter Notebooks are treated as series of Python commands. That means that results persist between runs of the same block of code. Take this script for example:\n",
    "\n",
    "```\n",
    "In [1]: x = 1\n",
    "\n",
    "In [2]: x += 1\n",
    "        print(x)\n",
    "```\n",
    "\n",
    "If I kept running the second block of code (`In [2]`) repeatedly, I would see the following:\n",
    "```\n",
    "2\n",
    "```\n",
    "\n",
    "then \n",
    "```\n",
    "3\n",
    "```\n",
    "\n",
    "on my second run, then\n",
    "\n",
    "```\n",
    "4\n",
    "```\n",
    "on my third run, and so on.\n",
    "\n",
    "4) \n",
    "```\n",
    "NameError: name 'VAR_NAME' is not defined\n",
    "```\n",
    "\n",
    "This may be because a function requires a string, but you have provided it with a variable name. Take for example:\n",
    "```\n",
    "dicom.read_file(dose.dcm)\n",
    "```\n",
    "\n",
    "This function will not work because `dose.dcm` should be a string. The function should instead be called as `dicom.read_file('dose.dcm')`\n",
    "\n",
    "5) Jupyter Notebook keeps crashing, very slow\n",
    "\n",
    "This could be because the VM is slow, you have too many applications open on your host computer, or because some function in your code is slow or failing. Cause is somewhat hard to determine.\n",
    "\n",
    "## How I Format Text in a Jupyter Notebook\n",
    "\n",
    "You'll notice that not everything is a code block in this notebook- a lot of it is formatted text.\n",
    "\n",
    "This is because Jupyter Notebook effectively has two settings for code blocks- Code, which is the default, and Markdown, which is basically a text editor with added functionality. \n",
    "\n",
    "To change between the two types of blocks, there should be a drop-down menu under `help` in the Jupyter Notebook menu bar that lets you change blocks between Code and Markdown. \n"
   ]
  }
 ],
 "metadata": {
  "kernelspec": {
   "display_name": "Python 3",
   "language": "python",
   "name": "python3"
  },
  "language_info": {
   "codemirror_mode": {
    "name": "ipython",
    "version": 3
   },
   "file_extension": ".py",
   "mimetype": "text/x-python",
   "name": "python",
   "nbconvert_exporter": "python",
   "pygments_lexer": "ipython3",
   "version": "3.5.2"
  }
 },
 "nbformat": 4,
 "nbformat_minor": 2
}
