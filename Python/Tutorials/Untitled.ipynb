{
 "cells": [
  {
   "cell_type": "code",
   "execution_count": 1,
   "metadata": {},
   "outputs": [],
   "source": [
    "import numpy as np\n",
    "import cv2\n",
    "import dicom\n",
    "import os\n",
    "import matplotlib.pyplot as plt"
   ]
  },
  {
   "cell_type": "code",
   "execution_count": 4,
   "metadata": {},
   "outputs": [
    {
     "data": {
      "text/plain": [
       "['AccessionNumber',\n",
       " 'BitsAllocated',\n",
       " 'BitsStored',\n",
       " 'Columns',\n",
       " 'DVHSequence',\n",
       " 'DeviceSerialNumber',\n",
       " 'DoseGridScaling',\n",
       " 'DoseSummationType',\n",
       " 'DoseType',\n",
       " 'DoseUnits',\n",
       " 'FrameIncrementPointer',\n",
       " 'FrameOfReferenceUID',\n",
       " 'GridFrameOffsetVector',\n",
       " 'HighBit',\n",
       " 'ImageOrientationPatient',\n",
       " 'ImagePositionPatient',\n",
       " 'InstanceCreationDate',\n",
       " 'InstanceCreationTime',\n",
       " 'InstanceNumber',\n",
       " 'Manufacturer',\n",
       " 'ManufacturerModelName',\n",
       " 'Modality',\n",
       " 'NumberOfFrames',\n",
       " 'OtherPatientIDs',\n",
       " 'PatientBirthDate',\n",
       " 'PatientBirthTime',\n",
       " 'PatientID',\n",
       " 'PatientName',\n",
       " 'PatientSex',\n",
       " 'PhotometricInterpretation',\n",
       " 'PhysiciansOfRecord',\n",
       " 'PixelData',\n",
       " 'PixelRepresentation',\n",
       " 'PixelSpacing',\n",
       " 'PositionReferenceIndicator',\n",
       " 'RefdRTPlanSequence',\n",
       " 'RefdStructureSetSequence',\n",
       " 'ReferencedRTPlanSequence',\n",
       " 'ReferencedStructureSetSequence',\n",
       " 'ReferringPhysicianName',\n",
       " 'Rows',\n",
       " 'SOPClassUID',\n",
       " 'SOPInstanceUID',\n",
       " 'SamplesPerPixel',\n",
       " 'SeriesDescription',\n",
       " 'SeriesInstanceUID',\n",
       " 'SeriesNumber',\n",
       " 'SliceThickness',\n",
       " 'SoftwareVersions',\n",
       " 'SpecificCharacterSet',\n",
       " 'StationName',\n",
       " 'StudyDate',\n",
       " 'StudyDescription',\n",
       " 'StudyID',\n",
       " 'StudyInstanceUID',\n",
       " 'StudyTime',\n",
       " 'TissueHeterogeneityCorrection']"
      ]
     },
     "execution_count": 4,
     "metadata": {},
     "output_type": "execute_result"
    }
   ],
   "source": [
    "base = '/home/radiation/RadiationTherapyDecisionSupport/data/'\n",
    "file_folder = 'UCLA_PR_6/'\n",
    "\n",
    "dose_dcm = dicom.read_file(base + file_folder + 'dose.dcm')\n",
    "\n",
    "\n",
    "dose_dcm.dir()"
   ]
  },
  {
   "cell_type": "code",
   "execution_count": 31,
   "metadata": {},
   "outputs": [],
   "source": [
    "dose_z = float(dose_dcm.ImagePositionPatient[2])\n",
    "ctFilenames = [fl for fl in os.listdir(base + file_folder) if 'CT.' in fl]\n",
    "ct_coords = None\n",
    "\n",
    "for fl in ctFilenames:\n",
    "    ct_struct = dicom.read_file(base + file_folder + fl)\n",
    "    if(float(ct_struct.ImagePositionPatient[2]) == dose_z):\n",
    "        ct_coords = ct_struct.ImagePositionPatient"
   ]
  },
  {
   "cell_type": "code",
   "execution_count": 9,
   "metadata": {},
   "outputs": [
    {
     "data": {
      "text/plain": [
       "['0.0', '3', '6', '9', '12', '15', '18', '21', '24', '27', '30', '33', '36', '39', '42', '45', '48', '51', '54', '57', '60', '63', '66', '69', '72', '75', '78', '81', '84', '87', '90', '93', '96', '99', '102', '105', '108', '111', '114', '117', '120', '123', '126', '129', '132', '135', '138', '141', '144', '147', '150', '153', '156', '159', '162', '165', '168', '171', '174', '177', '180', '183', '186', '189', '192', '195', '198', '201', '204', '207', '210', '213', '216', '219', '222', '225', '228', '231', '234', '237', '240', '243', '246', '249', '252', '255', '258', '261', '264', '267', '270', '273', '276', '279', '282', '285', '288', '291', '294', '297', '300', '303', '306']"
      ]
     },
     "execution_count": 9,
     "metadata": {},
     "output_type": "execute_result"
    }
   ],
   "source": [
    "dose_dcm.GridFrameOffsetVector"
   ]
  },
  {
   "cell_type": "code",
   "execution_count": 10,
   "metadata": {},
   "outputs": [],
   "source": [
    "\n",
    "\n",
    "ct_struct = dicom.read_file(base + file_folder + 'CT.1.3.12.2.1107.5.1.4.49208.30000011032816434551500001464.dcm')"
   ]
  },
  {
   "cell_type": "code",
   "execution_count": 11,
   "metadata": {},
   "outputs": [
    {
     "data": {
      "text/plain": [
       "['AccessionNumber',\n",
       " 'AcquisitionNumber',\n",
       " 'BitsAllocated',\n",
       " 'BitsStored',\n",
       " 'BodyPartExamined',\n",
       " 'Columns',\n",
       " 'ContentDate',\n",
       " 'ContentTime',\n",
       " 'ConvolutionKernel',\n",
       " 'DataCollectionDiameter',\n",
       " 'DeviceSerialNumber',\n",
       " 'DistanceSourceToDetector',\n",
       " 'DistanceSourceToPatient',\n",
       " 'EthnicGroup',\n",
       " 'Exposure',\n",
       " 'ExposureTime',\n",
       " 'FilterType',\n",
       " 'FocalSpots',\n",
       " 'FrameOfReferenceUID',\n",
       " 'GantryDetectorTilt',\n",
       " 'GeneratorPower',\n",
       " 'HighBit',\n",
       " 'ImageOrientationPatient',\n",
       " 'ImagePositionPatient',\n",
       " 'ImageType',\n",
       " 'InstanceCreationDate',\n",
       " 'InstanceCreationTime',\n",
       " 'InstanceNumber',\n",
       " 'InstitutionName',\n",
       " 'KVP',\n",
       " 'Manufacturer',\n",
       " 'ManufacturerModelName',\n",
       " 'Modality',\n",
       " 'OtherPatientIDs',\n",
       " 'PatientBirthDate',\n",
       " 'PatientBirthTime',\n",
       " 'PatientID',\n",
       " 'PatientName',\n",
       " 'PatientPosition',\n",
       " 'PatientSex',\n",
       " 'PhotometricInterpretation',\n",
       " 'PhysiciansOfRecord',\n",
       " 'PixelData',\n",
       " 'PixelRepresentation',\n",
       " 'PixelSpacing',\n",
       " 'PositionReferenceIndicator',\n",
       " 'ReconstructionDiameter',\n",
       " 'ReferringPhysicianName',\n",
       " 'RescaleIntercept',\n",
       " 'RescaleSlope',\n",
       " 'RotationDirection',\n",
       " 'Rows',\n",
       " 'SOPClassUID',\n",
       " 'SOPInstanceUID',\n",
       " 'SamplesPerPixel',\n",
       " 'SeriesDate',\n",
       " 'SeriesDescription',\n",
       " 'SeriesInstanceUID',\n",
       " 'SeriesNumber',\n",
       " 'SeriesTime',\n",
       " 'SliceLocation',\n",
       " 'SliceThickness',\n",
       " 'SoftwareVersions',\n",
       " 'SpecificCharacterSet',\n",
       " 'StationName',\n",
       " 'StudyDate',\n",
       " 'StudyDescription',\n",
       " 'StudyID',\n",
       " 'StudyInstanceUID',\n",
       " 'StudyTime',\n",
       " 'TableHeight',\n",
       " 'WindowCenter',\n",
       " 'WindowWidth',\n",
       " 'XRayTubeCurrent']"
      ]
     },
     "execution_count": 11,
     "metadata": {},
     "output_type": "execute_result"
    }
   ],
   "source": [
    "ct_struct.dir()"
   ]
  },
  {
   "cell_type": "code",
   "execution_count": 12,
   "metadata": {},
   "outputs": [
    {
     "data": {
      "text/plain": [
       "['-324.365234375', '-486.365234375', '-404']"
      ]
     },
     "execution_count": 12,
     "metadata": {},
     "output_type": "execute_result"
    }
   ],
   "source": [
    "ct_struct.ImagePositionPatient"
   ]
  },
  {
   "cell_type": "code",
   "execution_count": 13,
   "metadata": {},
   "outputs": [
    {
     "data": {
      "text/plain": [
       "['1.26953125', '1.26953125']"
      ]
     },
     "execution_count": 13,
     "metadata": {},
     "output_type": "execute_result"
    }
   ],
   "source": [
    "ct_struct.PixelSpacing\n"
   ]
  },
  {
   "cell_type": "code",
   "execution_count": 17,
   "metadata": {},
   "outputs": [],
   "source": [
    "x = float(dose_dcm.ImagePositionPatient[0])- float(ct_struct.ImagePositionPatient[0])\n",
    "x = round(x / float(ct_struct.PixelSpacing[0]))"
   ]
  },
  {
   "cell_type": "code",
   "execution_count": 23,
   "metadata": {},
   "outputs": [],
   "source": [
    "x = float(dose_dcm.ImagePositionPatient[0])- float(ct_struct.ImagePositionPatient[0])\n",
    "x = round(x / float(ct_struct.PixelSpacing[0]))\n",
    "y = float(dose_dcm.ImagePositionPatient[1])- float(ct_struct.ImagePositionPatient[1])\n",
    "y = round(y / float(ct_struct.PixelSpacing[1]))"
   ]
  },
  {
   "cell_type": "code",
   "execution_count": 24,
   "metadata": {},
   "outputs": [
    {
     "data": {
      "text/plain": [
       "(93, 125)"
      ]
     },
     "execution_count": 24,
     "metadata": {},
     "output_type": "execute_result"
    }
   ],
   "source": [
    "(x, y)"
   ]
  },
  {
   "cell_type": "code",
   "execution_count": null,
   "metadata": {},
   "outputs": [],
   "source": []
  }
 ],
 "metadata": {
  "kernelspec": {
   "display_name": "Python 3",
   "language": "python",
   "name": "python3"
  },
  "language_info": {
   "codemirror_mode": {
    "name": "ipython",
    "version": 3
   },
   "file_extension": ".py",
   "mimetype": "text/x-python",
   "name": "python",
   "nbconvert_exporter": "python",
   "pygments_lexer": "ipython3",
   "version": "3.5.2"
  }
 },
 "nbformat": 4,
 "nbformat_minor": 2
}
