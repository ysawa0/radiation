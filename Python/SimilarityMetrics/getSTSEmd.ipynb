{
 "cells": [
  {
   "cell_type": "code",
   "execution_count": 1,
   "metadata": {},
   "outputs": [],
   "source": [
    "import numpy as np\n",
    "import dicom\n",
    "import sys\n",
    "sys.path.append('..')\n",
    "import cv2\n",
    "import os\n",
    "from AlgoEngine.sts import getSTSHistogram\n",
    "from AlgoEngine.similarity import getSTSEmd\n",
    "from AlgoEngine.utils import getVolume, getContours, getImageBlock, convertROIToCTSpace\n",
    "from General.testing_utils import getContourInputs\n",
    "from math import sqrt\n",
    "import time\n",
    "import matplotlib.pyplot as plt\n",
    "start_time = time.time() # For runtime test\n"
   ]
  },
  {
   "cell_type": "markdown",
   "metadata": {},
   "source": [
    "## Inputs to Function\n",
    "\n",
    "Our inputs are two generated OVHs- One for the Query Patient (`UCLA_PR_5`) and one for the historical patient\n",
    "(`'UCLA_PR_6'`). We currently compare OVH for a single PTV-OAR pair."
   ]
  },
  {
   "cell_type": "code",
   "execution_count": 2,
   "metadata": {},
   "outputs": [],
   "source": [
    "BASE_DIR = '/home/radiation/RadiationTherapyDecisionSupport/data/'\n",
    "StudyID = 'UCLA_PR_5'\n",
    "n_bins = 10\n",
    "_, sop_ids = getImageBlock(StudyID, BASE_DIR)\n",
    "\n",
    "ctFilenames = [fl for fl in os.listdir(BASE_DIR + StudyID) if 'CT.' in fl]\n",
    "numImages = len(ctFilenames)\n",
    "\n",
    "sampleCTImage = dicom.read_file(BASE_DIR + StudyID + '/' + ctFilenames[0])\n",
    "width = sampleCTImage.Columns\n",
    "height = sampleCTImage.Rows\n",
    "row_spacing = float(sampleCTImage.PixelSpacing[0])\n",
    "column_spacing = float(sampleCTImage.PixelSpacing[1])\n",
    "slice_spacing = float(sampleCTImage.SliceThickness)"
   ]
  },
  {
   "cell_type": "code",
   "execution_count": 3,
   "metadata": {},
   "outputs": [],
   "source": [
    "ROI_NAME = 'PTV'\n",
    "block_shape, contour_data, image_orientation, image_position, pixel_spacing = getContourInputs(BASE_DIR, StudyID, ROI_NAME, excluding=[])\n",
    "_, ptv_roi_block = getContours(block_shape, contour_data, image_orientation, image_position, pixel_spacing)\n",
    "ptv_roi_block = convertROIToCTSpace(ptv_roi_block, image_position, sop_ids)\n",
    "\n",
    "ROI_NAME = 'Bladder'\n",
    "block_shape, contour_data, image_orientation, image_position, pixel_spacing = getContourInputs(BASE_DIR, StudyID, ROI_NAME, excluding=[])\n",
    "_, oar_roi_block = getContours(block_shape, contour_data, image_orientation, image_position, pixel_spacing)\n",
    "oar_roi_block = convertROIToCTSpace(oar_roi_block, image_position, sop_ids)\n",
    "\n",
    "_, _, _, query_sts = getSTSHistogram(ptv_roi_block, oar_roi_block, n_bins)"
   ]
  },
  {
   "cell_type": "code",
   "execution_count": 4,
   "metadata": {},
   "outputs": [],
   "source": [
    "StudyID = 'UCLA_PR_6'\n",
    "n_bins = 10\n",
    "_, sop_ids = getImageBlock(StudyID, BASE_DIR)\n",
    "\n",
    "ctFilenames = [fl for fl in os.listdir(BASE_DIR + StudyID) if 'CT.' in fl]\n",
    "numImages = len(ctFilenames)\n",
    "\n",
    "sampleCTImage = dicom.read_file(BASE_DIR + StudyID + '/' + ctFilenames[0])\n",
    "width = sampleCTImage.Columns\n",
    "height = sampleCTImage.Rows\n",
    "row_spacing = float(sampleCTImage.PixelSpacing[0])\n",
    "column_spacing = float(sampleCTImage.PixelSpacing[1])\n",
    "slice_spacing = float(sampleCTImage.SliceThickness)\n",
    "\n",
    "ROI_NAME = 'PTV'\n",
    "block_shape, contour_data, image_orientation, image_position, pixel_spacing = getContourInputs(BASE_DIR, StudyID, ROI_NAME, excluding=[])\n",
    "_, ptv_roi_block = getContours(block_shape, contour_data, image_orientation, image_position, pixel_spacing)\n",
    "ptv_roi_block = convertROIToCTSpace(ptv_roi_block, image_position, sop_ids)\n",
    "\n",
    "ROI_NAME = 'Bladder'\n",
    "block_shape, contour_data, image_orientation, image_position, pixel_spacing = getContourInputs(BASE_DIR, StudyID, ROI_NAME, excluding=[])\n",
    "_, oar_roi_block = getContours(block_shape, contour_data, image_orientation, image_position, pixel_spacing)\n",
    "oar_roi_block = convertROIToCTSpace(oar_roi_block, image_position, sop_ids)\n",
    "\n",
    "_, _, _, historical_sts = getSTSHistogram(ptv_roi_block, oar_roi_block, n_bins)"
   ]
  },
  {
   "cell_type": "markdown",
   "metadata": {},
   "source": [
    "## Function Here"
   ]
  },
  {
   "cell_type": "code",
   "execution_count": 5,
   "metadata": {},
   "outputs": [],
   "source": [
    "emd  = getSTSEmd(query_sts, historical_sts)"
   ]
  },
  {
   "cell_type": "markdown",
   "metadata": {},
   "source": [
    "## Testing\n",
    "\n",
    "We rely exclusively on OpenCV for accurate EMD implementation- we have minimal way to confirm if this is the correct EMD or if the dissimilarity is correct. So we just print the EMD value and some rudimentary tests:\n",
    "\n",
    "1) The EMD of two identical histograms should be 0\n",
    "2) Runtime"
   ]
  },
  {
   "cell_type": "code",
   "execution_count": 6,
   "metadata": {},
   "outputs": [
    {
     "name": "stdout",
     "output_type": "stream",
     "text": [
      "15.580533981323242\n"
     ]
    }
   ],
   "source": [
    "print(emd)"
   ]
  },
  {
   "cell_type": "code",
   "execution_count": 7,
   "metadata": {},
   "outputs": [
    {
     "name": "stdout",
     "output_type": "stream",
     "text": [
      "True\n",
      "True\n"
     ]
    }
   ],
   "source": [
    "print( getSTSEmd(query_sts, query_sts) == 0)\n",
    "print( getSTSEmd(historical_sts, historical_sts) == 0)"
   ]
  },
  {
   "cell_type": "code",
   "execution_count": 8,
   "metadata": {},
   "outputs": [
    {
     "name": "stdout",
     "output_type": "stream",
     "text": [
      "Runtime (in minutes + fraction) of functions (single PTV and single OAR): 3.6390061378479004\n"
     ]
    }
   ],
   "source": [
    "print(\"Runtime (in minutes + fraction) of functions (single PTV and single OAR): \" + str((time.time() - start_time) / 60))"
   ]
  }
 ],
 "metadata": {
  "kernelspec": {
   "display_name": "Python 3",
   "language": "python",
   "name": "python3"
  },
  "language_info": {
   "codemirror_mode": {
    "name": "ipython",
    "version": 3
   },
   "file_extension": ".py",
   "mimetype": "text/x-python",
   "name": "python",
   "nbconvert_exporter": "python",
   "pygments_lexer": "ipython3",
   "version": "3.5.2"
  }
 },
 "nbformat": 4,
 "nbformat_minor": 2
}
