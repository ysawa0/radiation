{
 "cells": [
  {
   "cell_type": "code",
   "execution_count": 1,
   "metadata": {},
   "outputs": [],
   "source": [
    "# import statements\n",
    "import numpy as np\n",
    "import dicom\n",
    "import cv2 \n",
    "import matplotlib.pyplot as plt\n",
    "from collections import defaultdict\n",
    "import scipy.misc as misc\n",
    "import sys\n",
    "import os\n",
    "sys.path.append(\"..\")\n",
    "from AlgoEngine.utils import getVolume, getContours, getImageBlock, convertROIToCTSpace, getMeanTargetDose\n",
    "from General.testing_utils import getContourInputs\n",
    "from AlgoEngine.similarity import getTDDistance"
   ]
  },
  {
   "cell_type": "markdown",
   "metadata": {},
   "source": [
    "## Inputs to Function\n",
    "\n",
    "We generate dose means for two patients- the query `UCLA_PR_5` and the historical patient `UCLA_PR_6`"
   ]
  },
  {
   "cell_type": "code",
   "execution_count": 2,
   "metadata": {},
   "outputs": [],
   "source": [
    "base = '/home/radiation/RadiationTherapyDecisionSupport/data/'"
   ]
  },
  {
   "cell_type": "code",
   "execution_count": 3,
   "metadata": {},
   "outputs": [],
   "source": [
    "StudyID = 'UCLA_PR_5'\n",
    "structureset = dicom.read_file(base + StudyID + '/structureset.dcm')\n",
    "dose_data = dicom.read_file(base + StudyID + \"/dose.dcm\")\n",
    "dose_grid = np.array(dose_data.pixel_array)\n",
    "\n",
    "x_spacing = np.array(dose_data.PixelSpacing[0]).astype(np.uint8)\n",
    "y_spacing = np.array(dose_data.PixelSpacing[1]).astype(np.uint8)"
   ]
  },
  {
   "cell_type": "code",
   "execution_count": 4,
   "metadata": {},
   "outputs": [],
   "source": [
    "dose_z = float(dose_data.ImagePositionPatient[2])\n",
    "ctFilenames = [fl for fl in os.listdir(base + StudyID) if 'CT.' in fl]\n",
    "ct_sample = dicom.read_file(base + StudyID + '/' + ctFilenames[0])\n",
    "block_shape = (ct_sample.Rows, ct_sample.Columns, len(ctFilenames))\n",
    "\n",
    "ct_coords = None\n",
    "\n",
    "for i, fl in enumerate(ctFilenames):\n",
    "    ct_struct = dicom.read_file(base + StudyID + '/' + fl)\n",
    "    if(float(ct_struct.ImagePositionPatient[2]) == dose_z):\n",
    "        ct_coords = ct_struct.ImagePositionPatient\n",
    "        ct_spacing = ct_struct.PixelSpacing"
   ]
  },
  {
   "cell_type": "code",
   "execution_count": 5,
   "metadata": {},
   "outputs": [],
   "source": [
    "x0 = float(dose_data.ImagePositionPatient[0])- float(ct_coords[0])\n",
    "x0 = int(round(x0 / float(ct_spacing[0])))\n",
    "y0 = float(dose_data.ImagePositionPatient[1])- float(ct_coords[1])\n",
    "y0 = int(round(y0 / float(ct_spacing[1])))\n",
    "\n",
    "DoseGridScaling = dose_data.DoseGridScaling\n",
    "_, sopUID = getImageBlock(StudyID, base)"
   ]
  },
  {
   "cell_type": "code",
   "execution_count": 6,
   "metadata": {},
   "outputs": [],
   "source": [
    "_, sop_ids = getImageBlock(StudyID, base)\n",
    "\n",
    "ROI_NAME = 'PTV'\n",
    "block_shape, contour_data, image_orientation, image_position, pixel_spacing = getContourInputs(base, StudyID, ROI_NAME, excluding=[])\n",
    "_, ptv_roi_block = getContours(block_shape, contour_data, image_orientation, image_position, pixel_spacing)\n",
    "ptv_roi_block = convertROIToCTSpace(ptv_roi_block, image_position, sop_ids)\n",
    "query_dose_mean = getMeanTargetDose(ptv_roi_block, block_shape, dose_grid, DoseGridScaling, x0, y0, x_spacing, y_spacing, sop_ids)"
   ]
  },
  {
   "cell_type": "code",
   "execution_count": 7,
   "metadata": {},
   "outputs": [],
   "source": [
    "StudyID = 'UCLA_PR_6'\n",
    "structureset = dicom.read_file(base + StudyID + '/structureset.dcm')\n",
    "dose_data = dicom.read_file(base + StudyID + \"/dose.dcm\")\n",
    "dose_grid = np.array(dose_data.pixel_array)\n",
    "\n",
    "x_spacing = np.array(dose_data.PixelSpacing[0]).astype(np.uint8)\n",
    "y_spacing = np.array(dose_data.PixelSpacing[1]).astype(np.uint8)"
   ]
  },
  {
   "cell_type": "code",
   "execution_count": 8,
   "metadata": {},
   "outputs": [],
   "source": [
    "dose_z = float(dose_data.ImagePositionPatient[2])\n",
    "ctFilenames = [fl for fl in os.listdir(base + StudyID) if 'CT.' in fl]\n",
    "ct_sample = dicom.read_file(base + StudyID + '/' + ctFilenames[0])\n",
    "block_shape = (ct_sample.Rows, ct_sample.Columns, len(ctFilenames))\n",
    "\n",
    "ct_coords = None\n",
    "\n",
    "for i, fl in enumerate(ctFilenames):\n",
    "    slice_position_z[i] = dicom.read_file(base + StudyID + '/' + fl).ImagePositionPatient[2]\n",
    "    ct_struct = dicom.read_file(base + StudyID + '/' + fl)\n",
    "    if(float(ct_struct.ImagePositionPatient[2]) == dose_z):\n",
    "        ct_coords = ct_struct.ImagePositionPatient\n",
    "        ct_spacing = ct_struct.PixelSpacing\n",
    "                        "
   ]
  },
  {
   "cell_type": "code",
   "execution_count": 9,
   "metadata": {},
   "outputs": [],
   "source": [
    "x0 = float(dose_data.ImagePositionPatient[0])- float(ct_coords[0])\n",
    "x0 = int(round(x0 / float(ct_spacing[0])))\n",
    "y0 = float(dose_data.ImagePositionPatient[1])- float(ct_coords[1])\n",
    "y0 = int(round(y0 / float(ct_spacing[1])))\n",
    "\n",
    "DoseGridScaling = dose_data.DoseGridScaling"
   ]
  },
  {
   "cell_type": "code",
   "execution_count": 17,
   "metadata": {},
   "outputs": [],
   "source": [
    "_, sop_ids = getImageBlock(StudyID, base)\n",
    "\n",
    "ROI_NAME = 'PTV'\n",
    "block_shape, contour_data, image_orientation, image_position, pixel_spacing = getContourInputs(base, StudyID, ROI_NAME, excluding=[])\n",
    "_, ptv_roi_block = getContours(block_shape, contour_data, image_orientation, image_position, pixel_spacing)\n",
    "ptv_roi_block = convertROIToCTSpace(ptv_roi_block, image_position, sop_ids)\n",
    "historical_dose_mean = getMeanTargetDose(ptv_roi_block, block_shape, dose_grid, DoseGridScaling, x0, y0, x_spacing, y_spacing, sop_ids)"
   ]
  },
  {
   "cell_type": "markdown",
   "metadata": {},
   "source": [
    "## Function"
   ]
  },
  {
   "cell_type": "code",
   "execution_count": 11,
   "metadata": {},
   "outputs": [],
   "source": [
    "dissimilarity = getTDDistance(query_dose_mean, historical_dose_mean)"
   ]
  },
  {
   "cell_type": "markdown",
   "metadata": {},
   "source": [
    "## Testing Functions\n",
    "\n",
    "We print the dissimilarity, and confirm that none of the PTV dose means are 0."
   ]
  },
  {
   "cell_type": "code",
   "execution_count": 12,
   "metadata": {},
   "outputs": [
    {
     "data": {
      "text/plain": [
       "0.12232474"
      ]
     },
     "execution_count": 12,
     "metadata": {},
     "output_type": "execute_result"
    }
   ],
   "source": [
    "dissimilarity"
   ]
  },
  {
   "cell_type": "code",
   "execution_count": 13,
   "metadata": {},
   "outputs": [
    {
     "data": {
      "text/plain": [
       "0.12232474"
      ]
     },
     "execution_count": 13,
     "metadata": {},
     "output_type": "execute_result"
    }
   ],
   "source": [
    "query_dose_mean"
   ]
  },
  {
   "cell_type": "code",
   "execution_count": 18,
   "metadata": {},
   "outputs": [
    {
     "data": {
      "text/plain": [
       "0.0"
      ]
     },
     "execution_count": 18,
     "metadata": {},
     "output_type": "execute_result"
    }
   ],
   "source": [
    "historical_dose_mean"
   ]
  },
  {
   "cell_type": "code",
   "execution_count": null,
   "metadata": {},
   "outputs": [],
   "source": []
  }
 ],
 "metadata": {
  "kernelspec": {
   "display_name": "Python 3",
   "language": "python",
   "name": "python3"
  },
  "language_info": {
   "codemirror_mode": {
    "name": "ipython",
    "version": 3
   },
   "file_extension": ".py",
   "mimetype": "text/x-python",
   "name": "python",
   "nbconvert_exporter": "python",
   "pygments_lexer": "ipython3",
   "version": "3.5.2"
  }
 },
 "nbformat": 4,
 "nbformat_minor": 2
}
