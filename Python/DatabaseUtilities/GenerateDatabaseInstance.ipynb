{
 "cells": [
  {
   "cell_type": "markdown",
   "metadata": {},
   "source": [
    "# Script to generate databases in RTDS Format\n",
    "\n",
    "Used as dummy servers so that when we prototype parsers / adding information to the server, we\n",
    "always have the ability to recreate a clean server if prototyping causes errors"
   ]
  },
  {
   "cell_type": "code",
   "execution_count": 55,
   "metadata": {},
   "outputs": [],
   "source": [
    "from GenerateDatabaseInstance import generate_database_instance"
   ]
  },
  {
   "cell_type": "code",
   "execution_count": 56,
   "metadata": {},
   "outputs": [
    {
     "name": "stdout",
     "output_type": "stream",
     "text": [
      "Database exists\n",
      "Table auth_group already exists\n",
      "Table auth_group_permissions already exists\n",
      "Table auth_permission already exists\n",
      "Table auth_user already exists\n",
      "Table auth_user_user_permissions already exists\n",
      "Table ct_images already exists\n",
      "Table django_admin_log already exists\n",
      "Table django_content_type already exists\n",
      "Table django_migrations already exists\n",
      "Table django_session already exists\n",
      "Table oar_dictionary already exists\n",
      "Table ovh already exists\n",
      "Table patients already exists\n",
      "Table rt_contour already exists\n",
      "Table rt_dose already exists\n",
      "Table rt_dose_image already exists\n",
      "Table rt_dvh already exists\n",
      "Table rt_isodose already exists\n",
      "Table rt_rois already exists\n",
      "Table rt_structureset already exists\n",
      "Table series already exists\n",
      "Table similarity already exists\n",
      "Table sts already exists\n",
      "Table studies already exists\n",
      "Table userprofile_userprofile already exists\n",
      "created tables: 0\n"
     ]
    }
   ],
   "source": [
    "IP = \"localhost\"\n",
    "USER = \"root\"\n",
    "PASSWORD = \"password\" # Change against your own setup\n",
    "DB_NAME = \"dsrt\"\n",
    "\n",
    "generate_database_instance(IP, USER, PASSWORD, DB_NAME)"
   ]
  }
 ],
 "metadata": {
  "kernelspec": {
   "display_name": "Python 3",
   "language": "python",
   "name": "python3"
  },
  "language_info": {
   "codemirror_mode": {
    "name": "ipython",
    "version": 3
   },
   "file_extension": ".py",
   "mimetype": "text/x-python",
   "name": "python",
   "nbconvert_exporter": "python",
   "pygments_lexer": "ipython3",
   "version": "3.5.2"
  }
 },
 "nbformat": 4,
 "nbformat_minor": 2
}
